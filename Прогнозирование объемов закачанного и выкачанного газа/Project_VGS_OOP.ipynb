{
 "cells": [
  {
   "cell_type": "code",
   "execution_count": 1,
   "id": "7fdab9c3",
   "metadata": {
    "slideshow": {
     "slide_type": "slide"
    }
   },
   "outputs": [],
   "source": [
    "import numpy as np\n",
    "import pandas as pd\n",
    "import seaborn as sn\n",
    "\n",
    "import matplotlib.pyplot as plt\n",
    "%matplotlib inline\n",
    "\n",
    "from itertools import product\n",
    "from statsmodels.tsa.statespace.sarimax import SARIMAX, SARIMAXResults\n",
    "from fbprophet import Prophet\n",
    "from sklearn.metrics import mean_squared_error\n",
    "from ipywidgets import interact\n",
    "from statsmodels.tsa.stattools import adfuller\n",
    "from statsmodels.graphics.tsaplots import plot_acf, plot_pacf\n",
    "from scipy.stats import boxcox\n",
    "from scipy.optimize import minimize\n",
    "\n",
    "import datetime as DT\n",
    "\n",
    "pd.options.display.max_rows = 20"
   ]
  },
  {
   "cell_type": "markdown",
   "id": "ea03f4e0",
   "metadata": {},
   "source": [
    "### Информация о том, какое ПХГ к какой стране относится"
   ]
  },
  {
   "cell_type": "code",
   "execution_count": 2,
   "id": "8783cbca",
   "metadata": {},
   "outputs": [],
   "source": [
    "ingo_vgs_countries = pd.read_excel('data/info/_main_UGS_AGSI.xlsx')\n",
    "\n",
    "# словарь - страны и ПХГ\n",
    "vgs_countries = ingo_vgs_countries['Country']\n",
    "vgs_countries.index = ingo_vgs_countries['id']\n",
    "dict_vgs_countries = vgs_countries.to_dict()"
   ]
  },
  {
   "cell_type": "markdown",
   "id": "fb610f2c",
   "metadata": {},
   "source": [
    "### Объем закачанного газа"
   ]
  },
  {
   "cell_type": "code",
   "execution_count": 3,
   "id": "02d3ea0b",
   "metadata": {},
   "outputs": [],
   "source": [
    "def removing_nan(dataframe):\n",
    "    data = dataframe.copy()\n",
    "    data = data.drop(data.columns[data.isna().all()], axis=1)\n",
    "    data = data.fillna(0)\n",
    "    \n",
    "    return data"
   ]
  },
  {
   "cell_type": "code",
   "execution_count": 4,
   "id": "63b57412",
   "metadata": {},
   "outputs": [],
   "source": [
    "def combining_columns_with_same_name(dataframe, dictionary, action = 'mean'):\n",
    "    data = dataframe.copy()\n",
    "    data.columns = list(map(lambda x: dictionary[x], data.columns))\n",
    "    \n",
    "    all_countries = data.columns\n",
    "    unique_countries = all_countries.unique()\n",
    "\n",
    "    for i in unique_countries:\n",
    "        current_country = data[i].copy()\n",
    "\n",
    "        data = data.drop(i, axis=1).copy()\n",
    "\n",
    "        if all_countries.tolist().count(i) > 1:\n",
    "            if action == 'sum':\n",
    "                current_country = current_country.sum(axis = 1)\n",
    "            else:\n",
    "                current_country = current_country.mean(axis = 1)\n",
    "\n",
    "        data.loc[:,i] = current_country\n",
    "    return data"
   ]
  },
  {
   "cell_type": "code",
   "execution_count": 5,
   "id": "1d941a9b",
   "metadata": {},
   "outputs": [],
   "source": [
    "def data_cleaning(dataFrame):\n",
    "    data = dataFrame.copy()\n",
    "    columns = data.columns\n",
    "    for i in range(len(columns)):\n",
    "        q_low = data[columns[i]].quantile(0.05)\n",
    "        q_hi  = data[columns[i]].quantile(0.95)\n",
    "\n",
    "        data.loc[:, columns[i]] = data.loc[:, columns[i]].apply(lambda x: x if (x > q_low) and (x < q_hi) else None).interpolate()\n",
    "    return data"
   ]
  },
  {
   "cell_type": "code",
   "execution_count": 6,
   "id": "922bbf0c",
   "metadata": {},
   "outputs": [
    {
     "name": "stderr",
     "output_type": "stream",
     "text": [
      "C:\\Users\\ars-b\\anaconda3\\lib\\site-packages\\openpyxl\\styles\\stylesheet.py:221: UserWarning:\n",
      "\n",
      "Workbook contains no default style, apply openpyxl's default\n",
      "\n"
     ]
    }
   ],
   "source": [
    "target_injection = pd.read_excel('data/target/injection.xlsx', index_col=0, parse_dates=True)\n",
    "target_injection.index = pd.DatetimeIndex(target_injection.index, freq='D')\n",
    "\n",
    "target_injection = removing_nan(target_injection)\n",
    "target_injection = combining_columns_with_same_name(target_injection, dict_vgs_countries, 'sum')\n",
    "target_injection = data_cleaning(target_injection)\n",
    "target_injection = removing_nan(target_injection)\n",
    "target_injection['ALL'] = target_injection.sum(axis=1)\n",
    "# target_injection"
   ]
  },
  {
   "cell_type": "code",
   "execution_count": 7,
   "id": "8a635f6c",
   "metadata": {},
   "outputs": [
    {
     "data": {
      "text/html": [
       "<div>\n",
       "<style scoped>\n",
       "    .dataframe tbody tr th:only-of-type {\n",
       "        vertical-align: middle;\n",
       "    }\n",
       "\n",
       "    .dataframe tbody tr th {\n",
       "        vertical-align: top;\n",
       "    }\n",
       "\n",
       "    .dataframe thead th {\n",
       "        text-align: right;\n",
       "    }\n",
       "</style>\n",
       "<table border=\"1\" class=\"dataframe\">\n",
       "  <thead>\n",
       "    <tr style=\"text-align: right;\">\n",
       "      <th></th>\n",
       "      <th>AT</th>\n",
       "      <th>DE</th>\n",
       "      <th>BE</th>\n",
       "      <th>BG</th>\n",
       "      <th>CZ</th>\n",
       "      <th>DK</th>\n",
       "      <th>ES</th>\n",
       "      <th>FR</th>\n",
       "      <th>GB</th>\n",
       "      <th>HR</th>\n",
       "      <th>HU</th>\n",
       "      <th>IT</th>\n",
       "      <th>LV</th>\n",
       "      <th>NL</th>\n",
       "      <th>PL</th>\n",
       "      <th>PT</th>\n",
       "      <th>RO</th>\n",
       "      <th>SK</th>\n",
       "      <th>UA</th>\n",
       "      <th>ALL</th>\n",
       "    </tr>\n",
       "    <tr>\n",
       "      <th>Date</th>\n",
       "      <th></th>\n",
       "      <th></th>\n",
       "      <th></th>\n",
       "      <th></th>\n",
       "      <th></th>\n",
       "      <th></th>\n",
       "      <th></th>\n",
       "      <th></th>\n",
       "      <th></th>\n",
       "      <th></th>\n",
       "      <th></th>\n",
       "      <th></th>\n",
       "      <th></th>\n",
       "      <th></th>\n",
       "      <th></th>\n",
       "      <th></th>\n",
       "      <th></th>\n",
       "      <th></th>\n",
       "      <th></th>\n",
       "      <th></th>\n",
       "    </tr>\n",
       "  </thead>\n",
       "  <tbody>\n",
       "    <tr>\n",
       "      <th>2011-01-01</th>\n",
       "      <td>5.270</td>\n",
       "      <td>52.20</td>\n",
       "      <td>0.00</td>\n",
       "      <td>0.0</td>\n",
       "      <td>0.0</td>\n",
       "      <td>62.51</td>\n",
       "      <td>0.00</td>\n",
       "      <td>0.00</td>\n",
       "      <td>0.00</td>\n",
       "      <td>0.00</td>\n",
       "      <td>0.00</td>\n",
       "      <td>0.00</td>\n",
       "      <td>0.00</td>\n",
       "      <td>26.93</td>\n",
       "      <td>0.00</td>\n",
       "      <td>0.00</td>\n",
       "      <td>0.00</td>\n",
       "      <td>0.00</td>\n",
       "      <td>0.00</td>\n",
       "      <td>146.910</td>\n",
       "    </tr>\n",
       "    <tr>\n",
       "      <th>2011-01-02</th>\n",
       "      <td>4.734</td>\n",
       "      <td>49.69</td>\n",
       "      <td>0.00</td>\n",
       "      <td>0.0</td>\n",
       "      <td>0.0</td>\n",
       "      <td>21.86</td>\n",
       "      <td>0.00</td>\n",
       "      <td>0.00</td>\n",
       "      <td>0.00</td>\n",
       "      <td>0.00</td>\n",
       "      <td>0.00</td>\n",
       "      <td>0.00</td>\n",
       "      <td>0.00</td>\n",
       "      <td>27.96</td>\n",
       "      <td>0.00</td>\n",
       "      <td>0.00</td>\n",
       "      <td>0.00</td>\n",
       "      <td>0.00</td>\n",
       "      <td>0.00</td>\n",
       "      <td>104.244</td>\n",
       "    </tr>\n",
       "    <tr>\n",
       "      <th>2011-01-03</th>\n",
       "      <td>4.198</td>\n",
       "      <td>87.20</td>\n",
       "      <td>0.00</td>\n",
       "      <td>0.0</td>\n",
       "      <td>0.0</td>\n",
       "      <td>12.93</td>\n",
       "      <td>0.00</td>\n",
       "      <td>0.00</td>\n",
       "      <td>0.00</td>\n",
       "      <td>0.00</td>\n",
       "      <td>0.00</td>\n",
       "      <td>0.00</td>\n",
       "      <td>0.00</td>\n",
       "      <td>28.99</td>\n",
       "      <td>0.00</td>\n",
       "      <td>0.00</td>\n",
       "      <td>0.00</td>\n",
       "      <td>0.00</td>\n",
       "      <td>0.00</td>\n",
       "      <td>133.318</td>\n",
       "    </tr>\n",
       "    <tr>\n",
       "      <th>2011-01-04</th>\n",
       "      <td>3.662</td>\n",
       "      <td>47.80</td>\n",
       "      <td>0.00</td>\n",
       "      <td>0.0</td>\n",
       "      <td>0.0</td>\n",
       "      <td>14.01</td>\n",
       "      <td>0.00</td>\n",
       "      <td>0.00</td>\n",
       "      <td>0.00</td>\n",
       "      <td>0.00</td>\n",
       "      <td>0.00</td>\n",
       "      <td>0.00</td>\n",
       "      <td>0.00</td>\n",
       "      <td>30.02</td>\n",
       "      <td>0.00</td>\n",
       "      <td>0.00</td>\n",
       "      <td>0.00</td>\n",
       "      <td>0.00</td>\n",
       "      <td>0.00</td>\n",
       "      <td>95.492</td>\n",
       "    </tr>\n",
       "    <tr>\n",
       "      <th>2011-01-05</th>\n",
       "      <td>3.126</td>\n",
       "      <td>8.40</td>\n",
       "      <td>0.00</td>\n",
       "      <td>0.0</td>\n",
       "      <td>0.0</td>\n",
       "      <td>23.24</td>\n",
       "      <td>0.00</td>\n",
       "      <td>0.20</td>\n",
       "      <td>0.00</td>\n",
       "      <td>0.00</td>\n",
       "      <td>0.00</td>\n",
       "      <td>0.00</td>\n",
       "      <td>0.00</td>\n",
       "      <td>29.52</td>\n",
       "      <td>0.00</td>\n",
       "      <td>0.00</td>\n",
       "      <td>0.00</td>\n",
       "      <td>0.00</td>\n",
       "      <td>0.00</td>\n",
       "      <td>64.486</td>\n",
       "    </tr>\n",
       "    <tr>\n",
       "      <th>...</th>\n",
       "      <td>...</td>\n",
       "      <td>...</td>\n",
       "      <td>...</td>\n",
       "      <td>...</td>\n",
       "      <td>...</td>\n",
       "      <td>...</td>\n",
       "      <td>...</td>\n",
       "      <td>...</td>\n",
       "      <td>...</td>\n",
       "      <td>...</td>\n",
       "      <td>...</td>\n",
       "      <td>...</td>\n",
       "      <td>...</td>\n",
       "      <td>...</td>\n",
       "      <td>...</td>\n",
       "      <td>...</td>\n",
       "      <td>...</td>\n",
       "      <td>...</td>\n",
       "      <td>...</td>\n",
       "      <td>...</td>\n",
       "    </tr>\n",
       "    <tr>\n",
       "      <th>2020-03-19</th>\n",
       "      <td>51.530</td>\n",
       "      <td>53.58</td>\n",
       "      <td>24.95</td>\n",
       "      <td>17.9</td>\n",
       "      <td>0.7</td>\n",
       "      <td>8.99</td>\n",
       "      <td>0.23</td>\n",
       "      <td>208.05</td>\n",
       "      <td>88.39</td>\n",
       "      <td>7.37</td>\n",
       "      <td>22.81</td>\n",
       "      <td>220.94</td>\n",
       "      <td>31.13</td>\n",
       "      <td>23.23</td>\n",
       "      <td>89.41</td>\n",
       "      <td>18.28</td>\n",
       "      <td>19.38</td>\n",
       "      <td>77.91</td>\n",
       "      <td>13.03</td>\n",
       "      <td>977.810</td>\n",
       "    </tr>\n",
       "    <tr>\n",
       "      <th>2020-03-20</th>\n",
       "      <td>102.150</td>\n",
       "      <td>62.99</td>\n",
       "      <td>25.62</td>\n",
       "      <td>17.9</td>\n",
       "      <td>0.7</td>\n",
       "      <td>4.45</td>\n",
       "      <td>0.23</td>\n",
       "      <td>286.46</td>\n",
       "      <td>175.28</td>\n",
       "      <td>7.24</td>\n",
       "      <td>22.81</td>\n",
       "      <td>246.08</td>\n",
       "      <td>31.13</td>\n",
       "      <td>23.23</td>\n",
       "      <td>89.19</td>\n",
       "      <td>19.05</td>\n",
       "      <td>39.18</td>\n",
       "      <td>71.83</td>\n",
       "      <td>13.03</td>\n",
       "      <td>1238.550</td>\n",
       "    </tr>\n",
       "    <tr>\n",
       "      <th>2020-03-21</th>\n",
       "      <td>88.720</td>\n",
       "      <td>79.60</td>\n",
       "      <td>24.40</td>\n",
       "      <td>17.9</td>\n",
       "      <td>0.7</td>\n",
       "      <td>13.38</td>\n",
       "      <td>0.23</td>\n",
       "      <td>346.67</td>\n",
       "      <td>100.07</td>\n",
       "      <td>5.39</td>\n",
       "      <td>22.81</td>\n",
       "      <td>494.95</td>\n",
       "      <td>31.13</td>\n",
       "      <td>64.79</td>\n",
       "      <td>89.67</td>\n",
       "      <td>19.82</td>\n",
       "      <td>49.53</td>\n",
       "      <td>71.28</td>\n",
       "      <td>13.03</td>\n",
       "      <td>1534.070</td>\n",
       "    </tr>\n",
       "    <tr>\n",
       "      <th>2020-03-22</th>\n",
       "      <td>81.090</td>\n",
       "      <td>83.15</td>\n",
       "      <td>25.62</td>\n",
       "      <td>17.9</td>\n",
       "      <td>0.7</td>\n",
       "      <td>4.45</td>\n",
       "      <td>0.23</td>\n",
       "      <td>218.44</td>\n",
       "      <td>154.64</td>\n",
       "      <td>7.36</td>\n",
       "      <td>22.81</td>\n",
       "      <td>375.81</td>\n",
       "      <td>31.13</td>\n",
       "      <td>23.23</td>\n",
       "      <td>61.51</td>\n",
       "      <td>17.84</td>\n",
       "      <td>49.53</td>\n",
       "      <td>65.56</td>\n",
       "      <td>13.03</td>\n",
       "      <td>1254.030</td>\n",
       "    </tr>\n",
       "    <tr>\n",
       "      <th>2020-03-23</th>\n",
       "      <td>25.350</td>\n",
       "      <td>82.46</td>\n",
       "      <td>25.62</td>\n",
       "      <td>17.9</td>\n",
       "      <td>0.7</td>\n",
       "      <td>3.04</td>\n",
       "      <td>0.23</td>\n",
       "      <td>214.85</td>\n",
       "      <td>107.59</td>\n",
       "      <td>5.90</td>\n",
       "      <td>22.81</td>\n",
       "      <td>375.81</td>\n",
       "      <td>31.13</td>\n",
       "      <td>23.23</td>\n",
       "      <td>61.51</td>\n",
       "      <td>17.84</td>\n",
       "      <td>49.53</td>\n",
       "      <td>60.40</td>\n",
       "      <td>13.03</td>\n",
       "      <td>1138.930</td>\n",
       "    </tr>\n",
       "  </tbody>\n",
       "</table>\n",
       "<p>3370 rows × 20 columns</p>\n",
       "</div>"
      ],
      "text/plain": [
       "                 AT     DE     BE    BG   CZ     DK    ES      FR      GB  \\\n",
       "Date                                                                        \n",
       "2011-01-01    5.270  52.20   0.00   0.0  0.0  62.51  0.00    0.00    0.00   \n",
       "2011-01-02    4.734  49.69   0.00   0.0  0.0  21.86  0.00    0.00    0.00   \n",
       "2011-01-03    4.198  87.20   0.00   0.0  0.0  12.93  0.00    0.00    0.00   \n",
       "2011-01-04    3.662  47.80   0.00   0.0  0.0  14.01  0.00    0.00    0.00   \n",
       "2011-01-05    3.126   8.40   0.00   0.0  0.0  23.24  0.00    0.20    0.00   \n",
       "...             ...    ...    ...   ...  ...    ...   ...     ...     ...   \n",
       "2020-03-19   51.530  53.58  24.95  17.9  0.7   8.99  0.23  208.05   88.39   \n",
       "2020-03-20  102.150  62.99  25.62  17.9  0.7   4.45  0.23  286.46  175.28   \n",
       "2020-03-21   88.720  79.60  24.40  17.9  0.7  13.38  0.23  346.67  100.07   \n",
       "2020-03-22   81.090  83.15  25.62  17.9  0.7   4.45  0.23  218.44  154.64   \n",
       "2020-03-23   25.350  82.46  25.62  17.9  0.7   3.04  0.23  214.85  107.59   \n",
       "\n",
       "              HR     HU      IT     LV     NL     PL     PT     RO     SK  \\\n",
       "Date                                                                        \n",
       "2011-01-01  0.00   0.00    0.00   0.00  26.93   0.00   0.00   0.00   0.00   \n",
       "2011-01-02  0.00   0.00    0.00   0.00  27.96   0.00   0.00   0.00   0.00   \n",
       "2011-01-03  0.00   0.00    0.00   0.00  28.99   0.00   0.00   0.00   0.00   \n",
       "2011-01-04  0.00   0.00    0.00   0.00  30.02   0.00   0.00   0.00   0.00   \n",
       "2011-01-05  0.00   0.00    0.00   0.00  29.52   0.00   0.00   0.00   0.00   \n",
       "...          ...    ...     ...    ...    ...    ...    ...    ...    ...   \n",
       "2020-03-19  7.37  22.81  220.94  31.13  23.23  89.41  18.28  19.38  77.91   \n",
       "2020-03-20  7.24  22.81  246.08  31.13  23.23  89.19  19.05  39.18  71.83   \n",
       "2020-03-21  5.39  22.81  494.95  31.13  64.79  89.67  19.82  49.53  71.28   \n",
       "2020-03-22  7.36  22.81  375.81  31.13  23.23  61.51  17.84  49.53  65.56   \n",
       "2020-03-23  5.90  22.81  375.81  31.13  23.23  61.51  17.84  49.53  60.40   \n",
       "\n",
       "               UA       ALL  \n",
       "Date                         \n",
       "2011-01-01   0.00   146.910  \n",
       "2011-01-02   0.00   104.244  \n",
       "2011-01-03   0.00   133.318  \n",
       "2011-01-04   0.00    95.492  \n",
       "2011-01-05   0.00    64.486  \n",
       "...           ...       ...  \n",
       "2020-03-19  13.03   977.810  \n",
       "2020-03-20  13.03  1238.550  \n",
       "2020-03-21  13.03  1534.070  \n",
       "2020-03-22  13.03  1254.030  \n",
       "2020-03-23  13.03  1138.930  \n",
       "\n",
       "[3370 rows x 20 columns]"
      ]
     },
     "execution_count": 7,
     "metadata": {},
     "output_type": "execute_result"
    }
   ],
   "source": [
    "target_injection"
   ]
  },
  {
   "cell_type": "markdown",
   "id": "ac4821d0",
   "metadata": {},
   "source": [
    "### Объем выкачанного газа"
   ]
  },
  {
   "cell_type": "code",
   "execution_count": 8,
   "id": "6ef49abc",
   "metadata": {},
   "outputs": [
    {
     "name": "stderr",
     "output_type": "stream",
     "text": [
      "C:\\Users\\ars-b\\anaconda3\\lib\\site-packages\\openpyxl\\styles\\stylesheet.py:221: UserWarning:\n",
      "\n",
      "Workbook contains no default style, apply openpyxl's default\n",
      "\n"
     ]
    }
   ],
   "source": [
    "target_withdrawal = pd.read_excel('data/target/withdrawal.xlsx', index_col=0, parse_dates=True)\n",
    "target_withdrawal.index = pd.DatetimeIndex(target_withdrawal.index, freq='D')\n",
    "\n",
    "target_withdrawal = removing_nan(target_withdrawal)\n",
    "target_withdrawal = combining_columns_with_same_name(target_withdrawal, dict_vgs_countries, 'sum')\n",
    "target_withdrawal = data_cleaning(target_withdrawal)\n",
    "target_withdrawal = removing_nan(target_withdrawal)\n",
    "target_withdrawal['ALL'] = target_withdrawal.sum(axis=1)\n",
    "# target_withdrawal"
   ]
  },
  {
   "cell_type": "markdown",
   "id": "f71444b8",
   "metadata": {},
   "source": [
    "### Разница объемов закачанного и выкачанного газа"
   ]
  },
  {
   "cell_type": "code",
   "execution_count": 9,
   "id": "31b276cf",
   "metadata": {},
   "outputs": [],
   "source": [
    "target_injection_minus_withdrawal = target_injection - target_withdrawal"
   ]
  },
  {
   "cell_type": "code",
   "execution_count": 10,
   "id": "d024c5a3",
   "metadata": {},
   "outputs": [
    {
     "data": {
      "text/html": [
       "<div>\n",
       "<style scoped>\n",
       "    .dataframe tbody tr th:only-of-type {\n",
       "        vertical-align: middle;\n",
       "    }\n",
       "\n",
       "    .dataframe tbody tr th {\n",
       "        vertical-align: top;\n",
       "    }\n",
       "\n",
       "    .dataframe thead th {\n",
       "        text-align: right;\n",
       "    }\n",
       "</style>\n",
       "<table border=\"1\" class=\"dataframe\">\n",
       "  <thead>\n",
       "    <tr style=\"text-align: right;\">\n",
       "      <th></th>\n",
       "      <th>AT</th>\n",
       "      <th>DE</th>\n",
       "      <th>BE</th>\n",
       "      <th>BG</th>\n",
       "      <th>CZ</th>\n",
       "      <th>DK</th>\n",
       "      <th>ES</th>\n",
       "      <th>FR</th>\n",
       "      <th>GB</th>\n",
       "      <th>HR</th>\n",
       "      <th>HU</th>\n",
       "      <th>IT</th>\n",
       "      <th>LV</th>\n",
       "      <th>NL</th>\n",
       "      <th>PL</th>\n",
       "      <th>PT</th>\n",
       "      <th>RO</th>\n",
       "      <th>SK</th>\n",
       "      <th>UA</th>\n",
       "      <th>ALL</th>\n",
       "    </tr>\n",
       "    <tr>\n",
       "      <th>Date</th>\n",
       "      <th></th>\n",
       "      <th></th>\n",
       "      <th></th>\n",
       "      <th></th>\n",
       "      <th></th>\n",
       "      <th></th>\n",
       "      <th></th>\n",
       "      <th></th>\n",
       "      <th></th>\n",
       "      <th></th>\n",
       "      <th></th>\n",
       "      <th></th>\n",
       "      <th></th>\n",
       "      <th></th>\n",
       "      <th></th>\n",
       "      <th></th>\n",
       "      <th></th>\n",
       "      <th></th>\n",
       "      <th></th>\n",
       "      <th></th>\n",
       "    </tr>\n",
       "  </thead>\n",
       "  <tbody>\n",
       "    <tr>\n",
       "      <th>2011-01-01</th>\n",
       "      <td>-105.060</td>\n",
       "      <td>-79.30</td>\n",
       "      <td>-22.48</td>\n",
       "      <td>0.00</td>\n",
       "      <td>-72.36</td>\n",
       "      <td>41.210</td>\n",
       "      <td>0.00</td>\n",
       "      <td>-106.22</td>\n",
       "      <td>0.000</td>\n",
       "      <td>0.00</td>\n",
       "      <td>-266.30</td>\n",
       "      <td>-58.66</td>\n",
       "      <td>-112.62</td>\n",
       "      <td>-302.07</td>\n",
       "      <td>0.00</td>\n",
       "      <td>0.00</td>\n",
       "      <td>0.00</td>\n",
       "      <td>-167.33</td>\n",
       "      <td>0.00</td>\n",
       "      <td>-1251.190</td>\n",
       "    </tr>\n",
       "    <tr>\n",
       "      <th>2011-01-02</th>\n",
       "      <td>-130.986</td>\n",
       "      <td>-136.66</td>\n",
       "      <td>-21.87</td>\n",
       "      <td>0.00</td>\n",
       "      <td>-70.75</td>\n",
       "      <td>-33.450</td>\n",
       "      <td>0.00</td>\n",
       "      <td>-124.12</td>\n",
       "      <td>0.000</td>\n",
       "      <td>0.00</td>\n",
       "      <td>-265.90</td>\n",
       "      <td>-303.44</td>\n",
       "      <td>-120.67</td>\n",
       "      <td>-355.15</td>\n",
       "      <td>0.00</td>\n",
       "      <td>0.00</td>\n",
       "      <td>0.00</td>\n",
       "      <td>-189.70</td>\n",
       "      <td>0.00</td>\n",
       "      <td>-1752.696</td>\n",
       "    </tr>\n",
       "    <tr>\n",
       "      <th>2011-01-03</th>\n",
       "      <td>-212.902</td>\n",
       "      <td>-305.67</td>\n",
       "      <td>-23.91</td>\n",
       "      <td>-28.12</td>\n",
       "      <td>-168.78</td>\n",
       "      <td>-45.455</td>\n",
       "      <td>-114.87</td>\n",
       "      <td>-185.35</td>\n",
       "      <td>0.000</td>\n",
       "      <td>0.00</td>\n",
       "      <td>-265.50</td>\n",
       "      <td>-713.24</td>\n",
       "      <td>-124.95</td>\n",
       "      <td>-492.69</td>\n",
       "      <td>0.00</td>\n",
       "      <td>0.00</td>\n",
       "      <td>0.00</td>\n",
       "      <td>-223.91</td>\n",
       "      <td>0.00</td>\n",
       "      <td>-2905.347</td>\n",
       "    </tr>\n",
       "    <tr>\n",
       "      <th>2011-01-04</th>\n",
       "      <td>-216.838</td>\n",
       "      <td>-471.19</td>\n",
       "      <td>-67.39</td>\n",
       "      <td>-33.23</td>\n",
       "      <td>-158.50</td>\n",
       "      <td>-47.450</td>\n",
       "      <td>-114.44</td>\n",
       "      <td>-205.72</td>\n",
       "      <td>0.000</td>\n",
       "      <td>0.00</td>\n",
       "      <td>-265.10</td>\n",
       "      <td>-945.06</td>\n",
       "      <td>-126.90</td>\n",
       "      <td>-501.79</td>\n",
       "      <td>0.00</td>\n",
       "      <td>0.00</td>\n",
       "      <td>0.00</td>\n",
       "      <td>-265.84</td>\n",
       "      <td>0.00</td>\n",
       "      <td>-3419.448</td>\n",
       "    </tr>\n",
       "    <tr>\n",
       "      <th>2011-01-05</th>\n",
       "      <td>-245.934</td>\n",
       "      <td>-502.55</td>\n",
       "      <td>-34.73</td>\n",
       "      <td>-33.41</td>\n",
       "      <td>-162.90</td>\n",
       "      <td>-41.295</td>\n",
       "      <td>-104.83</td>\n",
       "      <td>-142.64</td>\n",
       "      <td>0.000</td>\n",
       "      <td>0.00</td>\n",
       "      <td>-264.70</td>\n",
       "      <td>-826.15</td>\n",
       "      <td>-123.85</td>\n",
       "      <td>-500.38</td>\n",
       "      <td>0.00</td>\n",
       "      <td>0.00</td>\n",
       "      <td>0.00</td>\n",
       "      <td>-263.23</td>\n",
       "      <td>0.00</td>\n",
       "      <td>-3246.599</td>\n",
       "    </tr>\n",
       "    <tr>\n",
       "      <th>...</th>\n",
       "      <td>...</td>\n",
       "      <td>...</td>\n",
       "      <td>...</td>\n",
       "      <td>...</td>\n",
       "      <td>...</td>\n",
       "      <td>...</td>\n",
       "      <td>...</td>\n",
       "      <td>...</td>\n",
       "      <td>...</td>\n",
       "      <td>...</td>\n",
       "      <td>...</td>\n",
       "      <td>...</td>\n",
       "      <td>...</td>\n",
       "      <td>...</td>\n",
       "      <td>...</td>\n",
       "      <td>...</td>\n",
       "      <td>...</td>\n",
       "      <td>...</td>\n",
       "      <td>...</td>\n",
       "      <td>...</td>\n",
       "    </tr>\n",
       "    <tr>\n",
       "      <th>2020-03-19</th>\n",
       "      <td>-140.930</td>\n",
       "      <td>-252.84</td>\n",
       "      <td>16.07</td>\n",
       "      <td>3.08</td>\n",
       "      <td>-188.30</td>\n",
       "      <td>-16.860</td>\n",
       "      <td>-68.65</td>\n",
       "      <td>-35.75</td>\n",
       "      <td>-141.110</td>\n",
       "      <td>-6.22</td>\n",
       "      <td>-51.30</td>\n",
       "      <td>182.72</td>\n",
       "      <td>19.65</td>\n",
       "      <td>-226.17</td>\n",
       "      <td>88.98</td>\n",
       "      <td>-14.83</td>\n",
       "      <td>-9.56</td>\n",
       "      <td>-37.31</td>\n",
       "      <td>10.02</td>\n",
       "      <td>-869.310</td>\n",
       "    </tr>\n",
       "    <tr>\n",
       "      <th>2020-03-20</th>\n",
       "      <td>-5.140</td>\n",
       "      <td>-276.53</td>\n",
       "      <td>16.74</td>\n",
       "      <td>5.29</td>\n",
       "      <td>-198.65</td>\n",
       "      <td>-23.630</td>\n",
       "      <td>-68.59</td>\n",
       "      <td>127.48</td>\n",
       "      <td>140.930</td>\n",
       "      <td>-3.48</td>\n",
       "      <td>-19.85</td>\n",
       "      <td>236.30</td>\n",
       "      <td>-2.93</td>\n",
       "      <td>-363.30</td>\n",
       "      <td>88.76</td>\n",
       "      <td>-14.06</td>\n",
       "      <td>21.06</td>\n",
       "      <td>-54.29</td>\n",
       "      <td>-64.88</td>\n",
       "      <td>-458.770</td>\n",
       "    </tr>\n",
       "    <tr>\n",
       "      <th>2020-03-21</th>\n",
       "      <td>-28.800</td>\n",
       "      <td>-263.19</td>\n",
       "      <td>15.52</td>\n",
       "      <td>6.50</td>\n",
       "      <td>-194.02</td>\n",
       "      <td>-12.260</td>\n",
       "      <td>-67.77</td>\n",
       "      <td>236.15</td>\n",
       "      <td>71.815</td>\n",
       "      <td>-5.72</td>\n",
       "      <td>-29.32</td>\n",
       "      <td>490.16</td>\n",
       "      <td>-2.50</td>\n",
       "      <td>-416.78</td>\n",
       "      <td>73.24</td>\n",
       "      <td>-13.29</td>\n",
       "      <td>37.59</td>\n",
       "      <td>-36.45</td>\n",
       "      <td>-92.69</td>\n",
       "      <td>-231.815</td>\n",
       "    </tr>\n",
       "    <tr>\n",
       "      <th>2020-03-22</th>\n",
       "      <td>-66.610</td>\n",
       "      <td>-281.53</td>\n",
       "      <td>16.74</td>\n",
       "      <td>5.29</td>\n",
       "      <td>-227.19</td>\n",
       "      <td>-23.630</td>\n",
       "      <td>-66.57</td>\n",
       "      <td>52.72</td>\n",
       "      <td>132.480</td>\n",
       "      <td>-14.96</td>\n",
       "      <td>-19.85</td>\n",
       "      <td>357.78</td>\n",
       "      <td>-2.65</td>\n",
       "      <td>-344.73</td>\n",
       "      <td>36.95</td>\n",
       "      <td>-15.27</td>\n",
       "      <td>17.91</td>\n",
       "      <td>-74.04</td>\n",
       "      <td>-143.54</td>\n",
       "      <td>-660.700</td>\n",
       "    </tr>\n",
       "    <tr>\n",
       "      <th>2020-03-23</th>\n",
       "      <td>-179.990</td>\n",
       "      <td>-650.04</td>\n",
       "      <td>16.74</td>\n",
       "      <td>5.29</td>\n",
       "      <td>-227.19</td>\n",
       "      <td>-42.150</td>\n",
       "      <td>-67.81</td>\n",
       "      <td>-51.71</td>\n",
       "      <td>69.560</td>\n",
       "      <td>-30.92</td>\n",
       "      <td>-172.28</td>\n",
       "      <td>178.59</td>\n",
       "      <td>21.61</td>\n",
       "      <td>-496.17</td>\n",
       "      <td>58.21</td>\n",
       "      <td>-15.27</td>\n",
       "      <td>16.01</td>\n",
       "      <td>-111.24</td>\n",
       "      <td>-7.05</td>\n",
       "      <td>-1685.810</td>\n",
       "    </tr>\n",
       "  </tbody>\n",
       "</table>\n",
       "<p>3370 rows × 20 columns</p>\n",
       "</div>"
      ],
      "text/plain": [
       "                 AT      DE     BE     BG      CZ      DK      ES      FR  \\\n",
       "Date                                                                        \n",
       "2011-01-01 -105.060  -79.30 -22.48   0.00  -72.36  41.210    0.00 -106.22   \n",
       "2011-01-02 -130.986 -136.66 -21.87   0.00  -70.75 -33.450    0.00 -124.12   \n",
       "2011-01-03 -212.902 -305.67 -23.91 -28.12 -168.78 -45.455 -114.87 -185.35   \n",
       "2011-01-04 -216.838 -471.19 -67.39 -33.23 -158.50 -47.450 -114.44 -205.72   \n",
       "2011-01-05 -245.934 -502.55 -34.73 -33.41 -162.90 -41.295 -104.83 -142.64   \n",
       "...             ...     ...    ...    ...     ...     ...     ...     ...   \n",
       "2020-03-19 -140.930 -252.84  16.07   3.08 -188.30 -16.860  -68.65  -35.75   \n",
       "2020-03-20   -5.140 -276.53  16.74   5.29 -198.65 -23.630  -68.59  127.48   \n",
       "2020-03-21  -28.800 -263.19  15.52   6.50 -194.02 -12.260  -67.77  236.15   \n",
       "2020-03-22  -66.610 -281.53  16.74   5.29 -227.19 -23.630  -66.57   52.72   \n",
       "2020-03-23 -179.990 -650.04  16.74   5.29 -227.19 -42.150  -67.81  -51.71   \n",
       "\n",
       "                 GB     HR      HU      IT      LV      NL     PL     PT  \\\n",
       "Date                                                                       \n",
       "2011-01-01    0.000   0.00 -266.30  -58.66 -112.62 -302.07   0.00   0.00   \n",
       "2011-01-02    0.000   0.00 -265.90 -303.44 -120.67 -355.15   0.00   0.00   \n",
       "2011-01-03    0.000   0.00 -265.50 -713.24 -124.95 -492.69   0.00   0.00   \n",
       "2011-01-04    0.000   0.00 -265.10 -945.06 -126.90 -501.79   0.00   0.00   \n",
       "2011-01-05    0.000   0.00 -264.70 -826.15 -123.85 -500.38   0.00   0.00   \n",
       "...             ...    ...     ...     ...     ...     ...    ...    ...   \n",
       "2020-03-19 -141.110  -6.22  -51.30  182.72   19.65 -226.17  88.98 -14.83   \n",
       "2020-03-20  140.930  -3.48  -19.85  236.30   -2.93 -363.30  88.76 -14.06   \n",
       "2020-03-21   71.815  -5.72  -29.32  490.16   -2.50 -416.78  73.24 -13.29   \n",
       "2020-03-22  132.480 -14.96  -19.85  357.78   -2.65 -344.73  36.95 -15.27   \n",
       "2020-03-23   69.560 -30.92 -172.28  178.59   21.61 -496.17  58.21 -15.27   \n",
       "\n",
       "               RO      SK      UA       ALL  \n",
       "Date                                         \n",
       "2011-01-01   0.00 -167.33    0.00 -1251.190  \n",
       "2011-01-02   0.00 -189.70    0.00 -1752.696  \n",
       "2011-01-03   0.00 -223.91    0.00 -2905.347  \n",
       "2011-01-04   0.00 -265.84    0.00 -3419.448  \n",
       "2011-01-05   0.00 -263.23    0.00 -3246.599  \n",
       "...           ...     ...     ...       ...  \n",
       "2020-03-19  -9.56  -37.31   10.02  -869.310  \n",
       "2020-03-20  21.06  -54.29  -64.88  -458.770  \n",
       "2020-03-21  37.59  -36.45  -92.69  -231.815  \n",
       "2020-03-22  17.91  -74.04 -143.54  -660.700  \n",
       "2020-03-23  16.01 -111.24   -7.05 -1685.810  \n",
       "\n",
       "[3370 rows x 20 columns]"
      ]
     },
     "execution_count": 10,
     "metadata": {},
     "output_type": "execute_result"
    }
   ],
   "source": [
    "target_injection_minus_withdrawal"
   ]
  },
  {
   "cell_type": "markdown",
   "id": "172b51b8",
   "metadata": {},
   "source": [
    "## Влияние погоды"
   ]
  },
  {
   "cell_type": "markdown",
   "id": "18e62c89",
   "metadata": {},
   "source": [
    "### Соответствие тикера городу"
   ]
  },
  {
   "cell_type": "code",
   "execution_count": 11,
   "id": "69aef1d5",
   "metadata": {},
   "outputs": [],
   "source": [
    "predictors_weather_tickers = pd.read_excel('data/info/weather_tickers.xlsx')\n",
    "\n",
    "# словарь- тикер и страна\n",
    "tickers_countries = predictors_weather_tickers['Country']\n",
    "tickers_countries.index = predictors_weather_tickers['id']\n",
    "\n",
    "dict_tickers_countries = tickers_countries.to_dict()"
   ]
  },
  {
   "cell_type": "markdown",
   "id": "e770029b",
   "metadata": {},
   "source": [
    "### Среднесуточная температура воздуха в городах (meanTemp)"
   ]
  },
  {
   "cell_type": "code",
   "execution_count": 12,
   "id": "163fd791",
   "metadata": {},
   "outputs": [],
   "source": [
    "def parse_data_predictors(link):\n",
    "    data_predictor = pd.read_excel(link)\n",
    "    data_predictor.columns = data_predictor.iloc[2, :].values\n",
    "    data_predictor.index = data_predictor.iloc[:, 0].values\n",
    "    data_predictor = data_predictor.iloc[5:, 1:]\n",
    "    data_predictor.index = pd.DatetimeIndex(data_predictor.index, freq='D')\n",
    "    \n",
    "    return data_predictor"
   ]
  },
  {
   "cell_type": "code",
   "execution_count": 13,
   "id": "05c9d078",
   "metadata": {},
   "outputs": [],
   "source": [
    "def data_predictors_processing(dataframe):\n",
    "    data = dataframe.copy()\n",
    "    \n",
    "    data = data.drop(data.columns[data.isna().all()], axis=1)\n",
    "    data = data.fillna(method=\"pad\")\n",
    "    data = combining_columns_with_same_name(data, dict_tickers_countries)\n",
    "    return data"
   ]
  },
  {
   "cell_type": "code",
   "execution_count": 14,
   "id": "fc3e8cf1",
   "metadata": {},
   "outputs": [
    {
     "name": "stderr",
     "output_type": "stream",
     "text": [
      "C:\\Users\\ars-b\\anaconda3\\lib\\site-packages\\openpyxl\\styles\\stylesheet.py:221: UserWarning:\n",
      "\n",
      "Workbook contains no default style, apply openpyxl's default\n",
      "\n"
     ]
    }
   ],
   "source": [
    "predictors_meanTemp = parse_data_predictors('data/predictors/meanTemp.xlsx')\n",
    "predictors_meanTemp = data_predictors_processing(predictors_meanTemp)\n",
    "predictors_meanTemp['ALL'] = predictors_meanTemp.mean(axis=1)"
   ]
  },
  {
   "cell_type": "markdown",
   "id": "dce385d6",
   "metadata": {},
   "source": [
    "### Количество выпавших осадков в городах (precipitation)"
   ]
  },
  {
   "cell_type": "code",
   "execution_count": 15,
   "id": "5a2c3743",
   "metadata": {},
   "outputs": [],
   "source": [
    "predictors_precipitation = parse_data_predictors('data/predictors/precipitation.xlsx')\n",
    "predictors_precipitation = data_predictors_processing(predictors_precipitation)\n",
    "predictors_precipitation['ALL'] = predictors_precipitation.mean(axis=1)"
   ]
  },
  {
   "cell_type": "markdown",
   "id": "04eb589d",
   "metadata": {},
   "source": [
    "### Скорость ветра в городах (windSpeed)"
   ]
  },
  {
   "cell_type": "code",
   "execution_count": 16,
   "id": "806491a6",
   "metadata": {},
   "outputs": [],
   "source": [
    "predictors_windSpeed = parse_data_predictors('data/predictors/windSpeed.xlsx')\n",
    "predictors_windSpeed = data_predictors_processing(predictors_windSpeed)\n",
    "predictors_windSpeed['ALL'] = predictors_windSpeed.mean(axis=1)"
   ]
  },
  {
   "cell_type": "markdown",
   "id": "842cc52b",
   "metadata": {},
   "source": [
    "### Класс VGS_OF_COUNTRY"
   ]
  },
  {
   "cell_type": "code",
   "execution_count": 17,
   "id": "26a42398",
   "metadata": {},
   "outputs": [],
   "source": [
    "class VGS_OF_COUNTRY():\n",
    "    def __init__(self, country_name):\n",
    "        self.country_name = country_name\n",
    "        self.available = True\n",
    "        if self.country_name not in VGS_OF_COUNTRY.available_countries():\n",
    "            self.available = False\n",
    "            print('Прогноз для данной страны невозможен')\n",
    "        \n",
    "    @staticmethod\n",
    "    def available_countries():\n",
    "        array_of_all_countries = [ingo_vgs_countries['Country'],\n",
    "                                    target_injection.columns,\n",
    "                                    target_withdrawal.columns,\n",
    "                                    predictors_meanTemp.columns,\n",
    "                                    predictors_precipitation.columns,\n",
    "                                    predictors_windSpeed.columns]\n",
    "        available_countries = array_of_all_countries[0]\n",
    "        for i in array_of_all_countries:\n",
    "            available_countries = np.intersect1d(available_countries, i.unique().tolist())\n",
    "        return available_countries.tolist() + ['ALL']\n",
    "        \n",
    "    def data_of_country(self, date_for_predict = '2020-03-09', days_for_predict = 7, windSpeed_lag = 0, precipitation_lag = 0, sample = 'train'):\n",
    "        if self.available == False:\n",
    "            print('Прогноз для данной страны невозможен')\n",
    "            return\n",
    "        if date_for_predict > '2020-03-16':\n",
    "            print('Дата не может быть больше, чем 2020-03-16')\n",
    "            return\n",
    "        \n",
    "        data = pd.DataFrame({'injection': target_injection[self.country_name].iloc[:-7]}, index=target_injection.index[:-7])\n",
    "        data['withdrawal'] = target_withdrawal[self.country_name].iloc[:-7]\n",
    "        data['injection_minus_withdrawal'] = target_injection_minus_withdrawal[self.country_name].iloc[:-7]\n",
    "        data['meanTemp'] = predictors_meanTemp[self.country_name]\n",
    "        data['windSpeed'] = predictors_windSpeed[self.country_name].shift(windSpeed_lag)\n",
    "        data['precipitation'] = predictors_precipitation[self.country_name].shift(precipitation_lag)\n",
    "\n",
    "        if sample == 'train':\n",
    "            return data.loc[:date_for_predict, :]\n",
    "        else:\n",
    "            return data.loc[ : pd.date_range(date_for_predict, periods = days_for_predict + 1)[-1], :]\n",
    "        \n",
    "    def best_lag(self, attribute = 'injection_minus_withdrawal', start = 0, end = 90, step = 1):\n",
    "        if self.available == False:\n",
    "            print('Прогноз для данной страны невозможен')\n",
    "            return\n",
    "        \n",
    "        max_value_windSpeed = 0\n",
    "        max_index_windSpeed = 0\n",
    "        max_value_precipitation = 0\n",
    "        max_index_precipitation = 0\n",
    "\n",
    "        for i in range(start, end, step):\n",
    "            corr = self.data_of_country(windSpeed_lag = i, precipitation_lag = i)[[attribute, 'windSpeed', 'precipitation']].corr()\n",
    "            corr_windSpeed = abs(corr.iloc[0, 1])\n",
    "            corr_precipitation = abs(corr.iloc[0, 2])\n",
    "\n",
    "            if corr_windSpeed > max_value_windSpeed:\n",
    "                max_value_windSpeed = corr_windSpeed\n",
    "                max_index_windSpeed = i\n",
    "\n",
    "            if corr_precipitation > max_value_precipitation:\n",
    "                max_value_precipitation = corr_precipitation\n",
    "                max_index_precipitation = i\n",
    "\n",
    "        return {'windSpeed': max_index_windSpeed, 'precipitation': max_index_precipitation}\n",
    "    \n",
    "    def plot_forecast(self, model, forecast):\n",
    "        model.plot(forecast)\n",
    "        plt.show()\n",
    "    \n",
    "    def metric(self, forecast, data_initial):\n",
    "        metric_model_prophet = forecast.set_index('ds')[['yhat']].join(data_initial).reset_index()\n",
    "        metric_model_prophet.dropna(inplace=True)\n",
    "        return mean_squared_error(metric_model_prophet.iloc[:, -1], metric_model_prophet.iloc[:, -2])\n",
    "    \n",
    "    def compare(self, forecast, y, date_for_predict, days_for_predict):\n",
    "        week_initial = self.data_of_country(date_for_predict = date_for_predict,\n",
    "                                            days_for_predict = days_for_predict,\n",
    "                                            sample = 'test')[y[0]][-days_for_predict:]\n",
    "        week_forecast = pd.Series(data=forecast['yhat'].iloc[-days_for_predict:].values, index=week_initial.index)\n",
    "    \n",
    "        plt.figure(figsize=(10, 6))\n",
    "        plt.title(self.country_name + ' - ' + y[0])\n",
    "        plt.bar(np.arange(0, days_for_predict * 2, 2), week_initial, 0.8, label='Реальные данные')\n",
    "        plt.bar(np.arange(0, days_for_predict * 2, 2) + 0.8, week_forecast, 0.8, label='Прогноз')\n",
    "        plt.xticks(np.arange(0, days_for_predict * 2, 2) + 0.4, week_initial.index.strftime('%Y-%m-%d'), rotation=45)\n",
    "        plt.legend()\n",
    "        plt.show()\n",
    "    \n",
    "    def prophet(self,\n",
    "                date_for_predict = '2020-03-09',\n",
    "                days_for_predict = 7,\n",
    "                action = 'plot',\n",
    "                y = ['injection_minus_withdrawal'],\n",
    "                exogs = [],\n",
    "                windSpeed_lag = 0,\n",
    "                precipitation_lag = 0):\n",
    "        \n",
    "        if self.available == False:\n",
    "            print('Прогноз для данной страны невозможен')\n",
    "            return \n",
    "        \n",
    "        if (pd.to_datetime('2020-03-16') - pd.to_datetime(date_for_predict)).days < 1:\n",
    "            print('Прогноз можно делать до 2020-03-16')\n",
    "            return \n",
    "        \n",
    "        if (pd.to_datetime('2020-03-16') - pd.to_datetime(date_for_predict)).days < days_for_predict:\n",
    "            print('Прогноз можно делать с ' + date_for_predict + ' до 2020-03-16, то есть максимальное число дней для прогноза равно ' +\n",
    "                  str((pd.to_datetime('2020-03-16') - pd.to_datetime(date_for_predict)).days))\n",
    "            return\n",
    "        \n",
    "        available_exogs = ['meanTemp', 'windSpeed', 'precipitation']\n",
    "        available_y = ['injection_minus_withdrawal', 'withdrawal', 'injection']\n",
    "        \n",
    "        selected_country = self.data_of_country(date_for_predict, days_for_predict, windSpeed_lag, precipitation_lag)\n",
    "        data_prophet = selected_country.copy()\n",
    "        data_prophet = data_prophet.reset_index()\n",
    "        data_prophet = data_prophet.dropna()\n",
    "        data_prophet = data_prophet.drop(list(set(available_y) - set(y)) + list(set(available_exogs) - set(exogs)), axis=1)\n",
    "        data_prophet.columns = ['ds', 'y'] + exogs\n",
    "                \n",
    "        model = Prophet(weekly_seasonality=False, daily_seasonality=False, yearly_seasonality=False)\n",
    "        model.add_seasonality(name='yearly', period=365.25, fourier_order=10)\n",
    "        model.add_seasonality(name='weekly', period=7, fourier_order=10)\n",
    "        for i in exogs:  \n",
    "            model.add_regressor(i)\n",
    "        model.fit(data_prophet)\n",
    "        \n",
    "        selected_country_test = self.data_of_country(date_for_predict, days_for_predict, windSpeed_lag, precipitation_lag, sample = 'test')\n",
    "        future = model.make_future_dataframe(periods = days_for_predict, freq='D')\n",
    "        for i in exogs:  \n",
    "            future[i] = selected_country_test[i].values\n",
    "        forecast = model.predict(future)\n",
    "        \n",
    "        if action == 'plot':\n",
    "            self.plot_forecast(model, forecast)\n",
    "        elif action == 'error':\n",
    "            return self.metric(forecast, selected_country_test[y[0]])\n",
    "        elif action == 'compare':\n",
    "            self.compare(forecast, y, date_for_predict, days_for_predict)\n",
    "        else:\n",
    "            return forecast\n",
    "            \n",
    "            \n",
    "    def prophet_separately(self,\n",
    "                date_for_predict = '2020-03-09',\n",
    "                days_for_predict = 7,\n",
    "                action = 'plot',\n",
    "                exogs = [],\n",
    "                windSpeed_lag = 0,\n",
    "                precipitation_lag = 0):\n",
    "        \n",
    "        prophet_injection = self.prophet(date_for_predict = date_for_predict,\n",
    "                days_for_predict = days_for_predict,\n",
    "                action = 'data',\n",
    "                y = ['injection'],\n",
    "                exogs = exogs,\n",
    "                windSpeed_lag = windSpeed_lag,\n",
    "                precipitation_lag = precipitation_lag)\n",
    "        \n",
    "        prophet_withdrawal = self.prophet(date_for_predict = date_for_predict,\n",
    "                days_for_predict = days_for_predict,\n",
    "                action = 'data',\n",
    "                y = ['withdrawal'],\n",
    "                exogs = exogs,\n",
    "                windSpeed_lag = windSpeed_lag,\n",
    "                precipitation_lag = precipitation_lag)\n",
    "        \n",
    "        prophet_VGS = prophet_injection.copy()\n",
    "        prophet_VGS.iloc[:, 2:] =  prophet_injection.iloc[:, 2:] - prophet_withdrawal.iloc[:, 2:]\n",
    "        \n",
    "        selected_country_test = self.data_of_country(date_for_predict, days_for_predict, windSpeed_lag, precipitation_lag, sample = 'test')\n",
    "               \n",
    "        if action == 'error':\n",
    "            return self.metric(prophet_VGS, selected_country_test['injection_minus_withdrawal'])\n",
    "        elif action == 'compare':\n",
    "            self.compare(prophet_VGS, ['injection_minus_withdrawal'], date_for_predict, days_for_predict)\n",
    "        else:\n",
    "            return forecast\n",
    "        \n",
    "        "
   ]
  },
  {
   "cell_type": "code",
   "execution_count": 18,
   "id": "a8ac93db",
   "metadata": {},
   "outputs": [
    {
     "data": {
      "text/plain": [
       "['AT',\n",
       " 'BE',\n",
       " 'BG',\n",
       " 'CZ',\n",
       " 'DE',\n",
       " 'DK',\n",
       " 'ES',\n",
       " 'FR',\n",
       " 'GB',\n",
       " 'HR',\n",
       " 'HU',\n",
       " 'IT',\n",
       " 'NL',\n",
       " 'PL',\n",
       " 'PT',\n",
       " 'RO',\n",
       " 'SK',\n",
       " 'ALL']"
      ]
     },
     "execution_count": 18,
     "metadata": {},
     "output_type": "execute_result"
    }
   ],
   "source": [
    "VGS_OF_COUNTRY.available_countries()"
   ]
  },
  {
   "cell_type": "markdown",
   "id": "4ff569e2",
   "metadata": {},
   "source": [
    "### Экземпляр класса"
   ]
  },
  {
   "cell_type": "code",
   "execution_count": 19,
   "id": "a1e49238",
   "metadata": {},
   "outputs": [],
   "source": [
    "country = VGS_OF_COUNTRY('AT')"
   ]
  },
  {
   "cell_type": "code",
   "execution_count": 20,
   "id": "3b84cb7d",
   "metadata": {},
   "outputs": [
    {
     "data": {
      "text/plain": [
       "'AT'"
      ]
     },
     "execution_count": 20,
     "metadata": {},
     "output_type": "execute_result"
    }
   ],
   "source": [
    "country.country_name"
   ]
  },
  {
   "cell_type": "markdown",
   "id": "7e03ae9f",
   "metadata": {},
   "source": [
    "### Наилучшие лаги"
   ]
  },
  {
   "cell_type": "code",
   "execution_count": 21,
   "id": "43db70cc",
   "metadata": {},
   "outputs": [
    {
     "data": {
      "text/plain": [
       "{'windSpeed': 89, 'precipitation': 6}"
      ]
     },
     "execution_count": 21,
     "metadata": {},
     "output_type": "execute_result"
    }
   ],
   "source": [
    "lags = country.best_lag(attribute = 'injection_minus_withdrawal',\n",
    "                 start = 0,\n",
    "                 end = 90,\n",
    "                 step = 1)\n",
    "lags"
   ]
  },
  {
   "cell_type": "markdown",
   "id": "5d4c5322",
   "metadata": {},
   "source": [
    "### Метод prophet для экземпляра класса"
   ]
  },
  {
   "cell_type": "code",
   "execution_count": 22,
   "id": "cf40c99a",
   "metadata": {},
   "outputs": [
    {
     "data": {
      "image/png": "[encoded data removed]",
      "text/plain": [
       "<Figure size 720x432 with 1 Axes>"
      ]
     },
     "metadata": {
      "needs_background": "light"
     },
     "output_type": "display_data"
    }
   ],
   "source": [
    "country.prophet(action = 'compare', # plot  | error | compare | data\n",
    "                date_for_predict = '2018-10-09',\n",
    "                days_for_predict = 14,\n",
    "                exogs = ['meanTemp'], # ['meanTemp', 'windSpeed', 'precipitation']\n",
    "                y = ['injection_minus_withdrawal'], # ['injection_minus_withdrawal'] | ['withdrawal'] | ['injection']\n",
    "                windSpeed_lag = 0,\n",
    "                precipitation_lag = 0)"
   ]
  },
  {
   "cell_type": "markdown",
   "id": "90ec71b0",
   "metadata": {},
   "source": [
    "### Метод prophet_separately для экземпляра класса"
   ]
  },
  {
   "cell_type": "code",
   "execution_count": 23,
   "id": "dbe820e8",
   "metadata": {},
   "outputs": [
    {
     "data": {
      "text/plain": [
       "14375.314545449322"
      ]
     },
     "execution_count": 23,
     "metadata": {},
     "output_type": "execute_result"
    }
   ],
   "source": [
    "country.prophet_separately(action = 'error', # error | compare | data\n",
    "                date_for_predict = '2020-03-09',\n",
    "                days_for_predict = 7,\n",
    "                exogs = ['meanTemp', 'windSpeed', 'precipitation'], # ['meanTemp', 'windSpeed', 'precipitation']\n",
    "                windSpeed_lag = lags['windSpeed'],\n",
    "                precipitation_lag = lags['precipitation'])"
   ]
  },
  {
   "cell_type": "markdown",
   "id": "c04ec20f",
   "metadata": {},
   "source": [
    "### Интерактивный режим"
   ]
  },
  {
   "cell_type": "code",
   "execution_count": 24,
   "id": "ce3a7a9c",
   "metadata": {},
   "outputs": [
    {
     "data": {
      "application/vnd.jupyter.widget-view+json": {
       "model_id": "557d41945cba460c800d1cda5a4eb73c",
       "version_major": 2,
       "version_minor": 0
      },
      "text/plain": [
       "interactive(children=(Dropdown(description='country', options=('DE', 'FR', 'IT', 'GB', 'NL', 'AT', 'HU', 'ALL'…"
      ]
     },
     "metadata": {},
     "output_type": "display_data"
    }
   ],
   "source": [
    "@interact(country = ['DE','FR','IT','GB','NL','AT','HU', 'ALL'],\n",
    "          action = ['plot', 'error', 'compare', 'data'],\n",
    "          days_for_predict = (7, 21, 1),\n",
    "          exogs = [[], ['meanTemp'], ['meanTemp', 'windSpeed', 'precipitation']],\n",
    "          y = [['injection_minus_withdrawal'], ['withdrawal'], ['injection']],\n",
    "          windSpeed_lag = (0, 90, 10),\n",
    "          precipitation_lag = (0, 90, 10)) \n",
    "def plot_country_prophet(country, action, days_for_predict, exogs, y, windSpeed_lag, precipitation_lag):\n",
    "    current_country = VGS_OF_COUNTRY(country)\n",
    "    current_country.prophet(action = action,\n",
    "                date_for_predict = '2019-06-09',\n",
    "                days_for_predict = days_for_predict,\n",
    "                exogs = exogs,\n",
    "                y = y,\n",
    "                windSpeed_lag = windSpeed_lag,\n",
    "                precipitation_lag = precipitation_lag)"
   ]
  },
  {
   "cell_type": "markdown",
   "id": "ef46d98a",
   "metadata": {},
   "source": [
    "### MSE для основных стран"
   ]
  },
  {
   "cell_type": "code",
   "execution_count": 25,
   "id": "547fb685",
   "metadata": {},
   "outputs": [
    {
     "name": "stdout",
     "output_type": "stream",
     "text": [
      "Error for DE : 78033.86937962017\n",
      "Error for FR : 46013.59678325664\n",
      "Error for IT : 31438.48953848846\n",
      "Error for GB : 6440.174274192733\n",
      "Error for NL : 51884.0457162226\n",
      "Error for AT : 14767.464096204378\n",
      "Error for HU : 3657.708701507236\n"
     ]
    }
   ],
   "source": [
    "for i in ['DE','FR','IT','GB','NL','AT','HU']:\n",
    "    current_country = VGS_OF_COUNTRY(i)\n",
    "    error = current_country.prophet(action = 'error', # plot  | error | compare | data\n",
    "                    date_for_predict = '2020-03-09',\n",
    "                    days_for_predict = 7,\n",
    "                    exogs = ['meanTemp', 'windSpeed', 'precipitation'], # ['meanTemp', 'windSpeed', 'precipitation']\n",
    "                    y = ['injection_minus_withdrawal'], # ['injection_minus_withdrawal'] | ['withdrawal'] | ['injection']\n",
    "                    windSpeed_lag = lags['windSpeed'],\n",
    "                    precipitation_lag = lags['precipitation'])\n",
    "    print('Error for ' + i + ' : ' + str(error))"
   ]
  },
  {
   "cell_type": "markdown",
   "id": "7d2ab5ff",
   "metadata": {},
   "source": [
    "### Сравнение начальных данных и прогнозных для основных стран"
   ]
  },
  {
   "cell_type": "code",
   "execution_count": 26,
   "id": "7529067e",
   "metadata": {},
   "outputs": [
    {
     "data": {
      "image/png": "[encoded data removed]",
      "text/plain": [
       "<Figure size 720x432 with 1 Axes>"
      ]
     },
     "metadata": {
      "needs_background": "light"
     },
     "output_type": "display_data"
    },
    {
     "data": {
      "image/png": "[encoded data removed]",
      "text/plain": [
       "<Figure size 720x432 with 1 Axes>"
      ]
     },
     "metadata": {
      "needs_background": "light"
     },
     "output_type": "display_data"
    },
    {
     "data": {
      "image/png": "[encoded data removed]",
      "text/plain": [
       "<Figure size 720x432 with 1 Axes>"
      ]
     },
     "metadata": {
      "needs_background": "light"
     },
     "output_type": "display_data"
    },
    {
     "data": {
      "image/png": "[encoded data removed]",
      "text/plain": [
       "<Figure size 720x432 with 1 Axes>"
      ]
     },
     "metadata": {
      "needs_background": "light"
     },
     "output_type": "display_data"
    },
    {
     "data": {
      "image/png": "[encoded data removed]",
      "text/plain": [
       "<Figure size 720x432 with 1 Axes>"
      ]
     },
     "metadata": {
      "needs_background": "light"
     },
     "output_type": "display_data"
    },
    {
     "data": {
      "image/png": "[encoded data removed]",
      "text/plain": [
       "<Figure size 720x432 with 1 Axes>"
      ]
     },
     "metadata": {
      "needs_background": "light"
     },
     "output_type": "display_data"
    },
    {
     "data": {
      "image/png": "[encoded data removed]",
      "text/plain": [
       "<Figure size 720x432 with 1 Axes>"
      ]
     },
     "metadata": {
      "needs_background": "light"
     },
     "output_type": "display_data"
    }
   ],
   "source": [
    "for i in ['DE','FR','IT','GB','NL','AT','HU']:\n",
    "    VGS_OF_COUNTRY(i).prophet_separately(action = 'compare', # plot  | error | compare | data\n",
    "                date_for_predict = '2018-01-15',\n",
    "                days_for_predict = 14,\n",
    "                exogs = ['meanTemp'], # ['meanTemp', 'windSpeed', 'precipitation']\n",
    "                windSpeed_lag = 0,\n",
    "                precipitation_lag = 0)"
   ]
  },
  {
   "cell_type": "code",
   "execution_count": null,
   "id": "397e6eae",
   "metadata": {},
   "outputs": [],
   "source": []
  }
 ],
 "metadata": {
  "celltoolbar": "Необработанный формат ячейки",
  "kernelspec": {
   "display_name": "Python 3 (ipykernel)",
   "language": "python",
   "name": "python3"
  },
  "language_info": {
   "codemirror_mode": {
    "name": "ipython",
    "version": 3
   },
   "file_extension": ".py",
   "mimetype": "text/x-python",
   "name": "python",
   "nbconvert_exporter": "python",
   "pygments_lexer": "ipython3",
   "version": "3.9.7"
  }
 },
 "nbformat": 4,
 "nbformat_minor": 5
}
